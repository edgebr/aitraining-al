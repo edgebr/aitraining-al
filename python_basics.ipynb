{
 "cells": [
  {
   "cell_type": "markdown",
   "metadata": {},
   "source": [
    "# Experiments\n",
    "\n",
    "This experimental guide includes nine experiments, covering Python programming basics,\n",
    "and is intended to help trainces and readers casily develop capabilities of developing AI.\n",
    "- Experiment 1: Understand definition and operations of lists and tuples of Python.\n",
    "- Experiment 2: Understand definition and operations of Python strings.\n",
    "- Experiment 3: Understand definition and operations of Python dictionaries.\n",
    "- Experiment 4: Understand definition and operations of conditional statements and looping statements of Python.\n",
    "- Experiment 5: Understand definition and operations of Python functions.\n",
    "- Experiment 6: Understand definition and operations object-oriented programming of Python.\n",
    "- Experiment 7: Understand date and time operations of Python.\n",
    "- Experiment 8: Understand definition and operations of regular expressions of Python.\n",
    "- Experiment 9: Understand definition and operations of Python file manipulation."
   ]
  },
  {
   "cell_type": "markdown",
   "metadata": {},
   "source": [
    "## Experiment 1: Lists and tuples\n",
    "\n",
    "- Python lists. Lists include a series of ordered elements, and expressed in the form of [].\n",
    "  - As lists are combined orderly, you can identify the position of elements for access.\n",
    "  - **Note**: The list index starts from 0 forward and —1 backward.\n",
    "- Python tuples. Tuples are similar to lists in Python, except for that elements of tuples are unchangeable.\n",
    "  - Tuples are expressed in parentheses while lists in square brackets.\n",
    "  - It is casy to create tuples, simply by adding elements in brackets and separating them with commas."
   ]
  },
  {
   "cell_type": "markdown",
   "metadata": {},
   "source": [
    "### Lists"
   ]
  },
  {
   "cell_type": "markdown",
   "metadata": {},
   "source": [
    "#### Understand the the difference between 'append' and 'extend'"
   ]
  },
  {
   "cell_type": "code",
   "execution_count": 1,
   "metadata": {},
   "outputs": [
    {
     "name": "stdout",
     "output_type": "stream",
     "text": [
      "[1, 2, 3, [4, 5]]\n"
     ]
    }
   ],
   "source": [
    "x = [1, 2, 3]\n",
    "y = [4, 5]\n",
    "# 'append' adds data to the end of a list as a new element.\n",
    "# Its arguments can be any object.\n",
    "x.append(y)\n",
    "print(x)"
   ]
  },
  {
   "cell_type": "code",
   "execution_count": 2,
   "metadata": {},
   "outputs": [
    {
     "name": "stdout",
     "output_type": "stream",
     "text": [
      "[1, 2, 3, 4, 5]\n"
     ]
    }
   ],
   "source": [
    "x = [1, 2, 3]\n",
    "y = [4, 5]\n",
    "# 'extend' must be a iterated object,\n",
    "# which means that all elements of this object are added to the end of list one by one.\n",
    "x.extend(y)\n",
    "print(x)\n",
    "\n",
    "# # equivalent to\n",
    "# for i in y:\n",
    "#     x.append(i)"
   ]
  },
  {
   "cell_type": "markdown",
   "metadata": {},
   "source": [
    "#### Check whether the list is empty"
   ]
  },
  {
   "cell_type": "code",
   "execution_count": 3,
   "metadata": {},
   "outputs": [
    {
     "name": "stdout",
     "output_type": "stream",
     "text": [
      "empty\n"
     ]
    }
   ],
   "source": [
    "items = []\n",
    "if len(items):\n",
    "    print(\"not empty\")\n",
    "else:\n",
    "    print(\"empty\")\n",
    "\n",
    "# Empty sequences (list, tuple, range, str, binary) and collections (set) are considered false.\n",
    "# Checkout: https://docs.python.org/3/library/stdtypes.html#truth-value-testing"
   ]
  },
  {
   "cell_type": "markdown",
   "metadata": {},
   "source": [
    "#### Copy a list"
   ]
  },
  {
   "cell_type": "code",
   "execution_count": 4,
   "metadata": {},
   "outputs": [
    {
     "name": "stdout",
     "output_type": "stream",
     "text": [
      "[1, 2, 3, 4]\n"
     ]
    }
   ],
   "source": [
    "old_list = [1, 2, 3, 4]\n",
    "# Return a slice with all elements\n",
    "new_list = old_list[:]  # This is a shallow copy \n",
    "print(new_list)"
   ]
  },
  {
   "cell_type": "code",
   "execution_count": 5,
   "metadata": {},
   "outputs": [
    {
     "name": "stdout",
     "output_type": "stream",
     "text": [
      "[1, 2, 3, 4]\n"
     ]
    }
   ],
   "source": [
    "# {{{\n",
    "# Actually, you can imagine a slice as a new perspective of the original list\n",
    "new_list = old_list[:2]  # This slice returns the first two elements of the old list\n",
    "new_list[0] = 10\n",
    "print(old_list)  # The slice forms a new list\n",
    "\n",
    "old_list = [1, 2, 3, 4]\n",
    "# Create a new list with `old_list` elements\n",
    "new_list = list(old_list)\n",
    "print(new_list)  # It is a new list"
   ]
  },
  {
   "cell_type": "code",
   "execution_count": 7,
   "metadata": {},
   "outputs": [],
   "source": [
    "# Also, you can use the `copy` module to copy (or deepcopy) a list\n",
    "import copy\n",
    "\n",
    "# Shallow copy\n",
    "new_list = copy.copy(old_list)  # This is equivalent to old_list.copy()\n",
    "# Deep copy\n",
    "new_list = copy.deepcopy(old_list)\n",
    "\n",
    "# Checkout the difference between the two types:\n",
    "# https://docs.python.org/3/library/copy.html"
   ]
  },
  {
   "cell_type": "markdown",
   "metadata": {},
   "source": [
    "#### Get the last element"
   ]
  },
  {
   "cell_type": "code",
   "execution_count": 8,
   "metadata": {},
   "outputs": [
    {
     "name": "stdout",
     "output_type": "stream",
     "text": [
      "5\n",
      "5\n"
     ]
    }
   ],
   "source": [
    "# Lists are indexed starting from 0 to (size - 1)\n",
    "a_list = [1, 2, 3, 4, 5]  # size = 5\n",
    "# Last element: size - 1\n",
    "print(a_list[len(a_list) - 1])\n",
    "\n",
    "# Also, you can get the elements using negative indexes: starting from -size to -1\n",
    "print(a_list[-1])  # Last element"
   ]
  },
  {
   "cell_type": "markdown",
   "metadata": {},
   "source": [
    "#### Sort lists"
   ]
  },
  {
   "cell_type": "code",
   "execution_count": 9,
   "metadata": {},
   "outputs": [
    {
     "name": "stdout",
     "output_type": "stream",
     "text": [
      "[{'name': 'Bart', 'age': 10}, {'name': 'Cater', 'age': 20}, {'name': 'Homer', 'age': 39}]\n"
     ]
    }
   ],
   "source": [
    "items = [\n",
    "    {\"name\": \"Homer\", \"age\": 39},\n",
    "    {\"name\": \"Bart\", \"age\": 10},\n",
    "    {\"name\": \"Cater\", \"age\": 20},\n",
    "]\n",
    "# Lists have a method used to sort them\n",
    "items.sort(key=lambda item: item.get('age'))\n",
    "# Read this as \"sort items using the value from the key `age`\"\n",
    "print(items)"
   ]
  },
  {
   "cell_type": "markdown",
   "metadata": {},
   "source": [
    "#### Remove elements"
   ]
  },
  {
   "cell_type": "code",
   "execution_count": 10,
   "metadata": {},
   "outputs": [
    {
     "name": "stdout",
     "output_type": "stream",
     "text": [
      "[0, 3, 2]\n"
     ]
    }
   ],
   "source": [
    "a_list = [0, 2, 3, 2]\n",
    "a_list.remove(2)  # Removes the first `2`\n",
    "print(a_list)"
   ]
  },
  {
   "cell_type": "code",
   "execution_count": 11,
   "metadata": {},
   "outputs": [
    {
     "ename": "ValueError",
     "evalue": "list.remove(x): x not in list",
     "output_type": "error",
     "traceback": [
      "\u001b[0;31m---------------------------------------------------------------------------\u001b[0m",
      "\u001b[0;31mValueError\u001b[0m                                Traceback (most recent call last)",
      "\u001b[0;32m<ipython-input-11-396d0f64f497>\u001b[0m in \u001b[0;36m<module>\u001b[0;34m\u001b[0m\n\u001b[1;32m      1\u001b[0m \u001b[0ma_list\u001b[0m \u001b[0;34m=\u001b[0m \u001b[0;34m[\u001b[0m\u001b[0;36m0\u001b[0m\u001b[0;34m,\u001b[0m \u001b[0;36m2\u001b[0m\u001b[0;34m,\u001b[0m \u001b[0;36m3\u001b[0m\u001b[0;34m,\u001b[0m \u001b[0;36m2\u001b[0m\u001b[0;34m]\u001b[0m\u001b[0;34m\u001b[0m\u001b[0;34m\u001b[0m\u001b[0m\n\u001b[0;32m----> 2\u001b[0;31m \u001b[0ma_list\u001b[0m\u001b[0;34m.\u001b[0m\u001b[0mremove\u001b[0m\u001b[0;34m(\u001b[0m\u001b[0;36m1\u001b[0m\u001b[0;34m)\u001b[0m\u001b[0;34m\u001b[0m\u001b[0;34m\u001b[0m\u001b[0m\n\u001b[0m\u001b[1;32m      3\u001b[0m \u001b[0;31m# It will throw an error because `1` is not in the list\u001b[0m\u001b[0;34m\u001b[0m\u001b[0;34m\u001b[0m\u001b[0;34m\u001b[0m\u001b[0m\n\u001b[1;32m      4\u001b[0m \u001b[0;31m# Checkout more ways to remove a element, like `pop`:\u001b[0m\u001b[0;34m\u001b[0m\u001b[0;34m\u001b[0m\u001b[0;34m\u001b[0m\u001b[0m\n\u001b[1;32m      5\u001b[0m \u001b[0;31m# https://docs.python.org/3/tutorial/datastructures.html#more-on-lists\u001b[0m\u001b[0;34m\u001b[0m\u001b[0;34m\u001b[0m\u001b[0;34m\u001b[0m\u001b[0m\n",
      "\u001b[0;31mValueError\u001b[0m: list.remove(x): x not in list"
     ]
    }
   ],
   "source": [
    "a_list = [0, 2, 3, 2]\n",
    "a_list.remove(1)\n",
    "# It will throw an error because `1` is not in the list\n",
    "# Checkout more ways to remove a element, like `pop`: \n",
    "# https://docs.python.org/3/tutorial/datastructures.html#more-on-lists"
   ]
  },
  {
   "cell_type": "markdown",
   "metadata": {},
   "source": [
    "#### Connect two lists"
   ]
  },
  {
   "cell_type": "code",
   "execution_count": 12,
   "metadata": {},
   "outputs": [
    {
     "name": "stdout",
     "output_type": "stream",
     "text": [
      "[1, 2, 3, 4, 5, 6]\n"
     ]
    }
   ],
   "source": [
    "list_one = [1, 2, 3]\n",
    "list_two = [4, 5, 6]\n",
    "merged_list = list_one + list_two\n",
    "print(merged_list)"
   ]
  },
  {
   "cell_type": "markdown",
   "metadata": {},
   "source": [
    "### Tuples"
   ]
  },
  {
   "cell_type": "markdown",
   "metadata": {},
   "source": [
    "### Define a tuple for an element"
   ]
  },
  {
   "cell_type": "code",
   "execution_count": 13,
   "metadata": {},
   "outputs": [],
   "source": [
    "a_tuple = (1,)  # With only one element, you end it with a `,`\n",
    "this_is_not_a_tuple = (1)\n",
    "assert a_tuple != this_is_not_a_tuple\n",
    "\n",
    "# assert is a python statement that checks a following expression"
   ]
  },
  {
   "cell_type": "markdown",
   "metadata": {},
   "source": [
    "### Tuples are immutable"
   ]
  },
  {
   "cell_type": "code",
   "execution_count": 14,
   "metadata": {},
   "outputs": [
    {
     "ename": "TypeError",
     "evalue": "'tuple' object does not support item assignment",
     "output_type": "error",
     "traceback": [
      "\u001b[0;31m---------------------------------------------------------------------------\u001b[0m",
      "\u001b[0;31mTypeError\u001b[0m                                 Traceback (most recent call last)",
      "\u001b[0;32m<ipython-input-14-38a574f6044f>\u001b[0m in \u001b[0;36m<module>\u001b[0;34m\u001b[0m\n\u001b[1;32m      1\u001b[0m \u001b[0ma_tuple\u001b[0m \u001b[0;34m=\u001b[0m \u001b[0;34m(\u001b[0m\u001b[0;36m1\u001b[0m\u001b[0;34m,\u001b[0m \u001b[0;36m2\u001b[0m\u001b[0;34m,\u001b[0m \u001b[0;36m3\u001b[0m\u001b[0;34m)\u001b[0m\u001b[0;34m\u001b[0m\u001b[0;34m\u001b[0m\u001b[0m\n\u001b[0;32m----> 2\u001b[0;31m \u001b[0ma_tuple\u001b[0m\u001b[0;34m[\u001b[0m\u001b[0;36m0\u001b[0m\u001b[0;34m]\u001b[0m \u001b[0;34m=\u001b[0m \u001b[0;36m10\u001b[0m  \u001b[0;31m# It will throw an error\u001b[0m\u001b[0;34m\u001b[0m\u001b[0;34m\u001b[0m\u001b[0m\n\u001b[0m",
      "\u001b[0;31mTypeError\u001b[0m: 'tuple' object does not support item assignment"
     ]
    }
   ],
   "source": [
    "a_tuple = (1, 2, 3)\n",
    "a_tuple[0] = 10  # It will throw an error"
   ]
  }
 ],
 "metadata": {
  "jupytext": {
   "cell_metadata_filter": "-all",
   "encoding": "# -*- coding: utf-8 -*-",
   "formats": "ipynb,py:percent"
  },
  "kernelspec": {
   "display_name": "Python 3",
   "language": "python",
   "name": "python3"
  },
  "language_info": {
   "codemirror_mode": {
    "name": "ipython",
    "version": 3
   },
   "file_extension": ".py",
   "mimetype": "text/x-python",
   "name": "python",
   "nbconvert_exporter": "python",
   "pygments_lexer": "ipython3",
   "version": "3.7.7"
  }
 },
 "nbformat": 4,
 "nbformat_minor": 4
}
