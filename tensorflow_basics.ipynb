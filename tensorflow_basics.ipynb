{
 "cells": [
  {
   "cell_type": "markdown",
   "metadata": {},
   "source": [
    "# Experiments\n",
    "\n",
    "This experiment guide includes nine experiments, introducing basic equipment operation and\n",
    "Configuration, TensorFlow's helloworld, sessions, matrix multiplication, TensorFlow\n",
    "Virtualization, and housing price prediction.\n",
    "\n",
    "- Experiment 1: \"Hello, TensorFlow\".\n",
    "- Experiment 2: Understand functions of sessions through a session experiment using the with session function.\n",
    "- Experiment 3: Understand matrix multiplication by multiplying two matrices with ranks of tensors greater than 2.\n",
    "- Experiment 4: Understand the definition of variables.\n",
    "  - Define variables with Variable and get_variable respectively and observe the difference between these two methods.\n",
    "- Experiment 5: Understand the visualization of TensorBoard.\n",
    "  - TensorBoard aggregates all kinds of data into a log file.\n",
    "  - You can enable TensorBoard service to read the log file and enable the 6060 port to provide web services so that users can view data via a browser.\n",
    "- Experiment 6: Understand data reading and processing by reading .csv files and displaying them based on given conditions.\n",
    "- Experiment 7: Understand graphic operations.\n",
    "  - Create a graph in three ways and set it as the default graph. Use the get_default_graph() function to access the default graph and verify its settings.\n",
    "- Experiment 8: Understand save and use of models.\n",
    "  - After importing data, analyze data characteristics and define variables based on the characteristics.\n",
    "  - Create a model and define output nodes.\n",
    "  - Build the structure for forward propagation and then the structure for backpropagation.\n",
    "  - Compile and train the model to get appropriate parameters.\n",
    "  - After training data and testing the model, create a saver and a path to save parameters in the session automatically.\n",
    "  - When the model is saved, you can access the model for use.\n",
    "- Experiment 9: A comprehensive experiment of forecasting housing price through the instantiation of linear regression.\n",
    "  - Use the dataset of housing prices in Beijing and skills in the prior eight experiments to forecast the housing price."
   ]
  },
  {
   "cell_type": "markdown",
   "metadata": {
    "lines_to_next_cell": 0
   },
   "source": [
    "## Experiment 1"
   ]
  },
  {
   "cell_type": "code",
   "execution_count": 1,
   "metadata": {},
   "outputs": [],
   "source": [
    "import tensorflow as tf"
   ]
  },
  {
   "cell_type": "code",
   "execution_count": 2,
   "metadata": {
    "lines_to_next_cell": 2
   },
   "outputs": [],
   "source": [
    "# Defining a variable\n",
    "hello = tf.constant(\"hello, tensorflow!\")  # a constant"
   ]
  },
  {
   "cell_type": "code",
   "execution_count": 3,
   "metadata": {
    "lines_to_next_cell": 0
   },
   "outputs": [
    {
     "name": "stdout",
     "output_type": "stream",
     "text": [
      "b'hello, tensorflow!'\n"
     ]
    }
   ],
   "source": [
    "sess = tf.Session()  # Creates a session\n",
    "print(sess.run(hello))  # Run the session on the `hello` constant to get the result"
   ]
  },
  {
   "cell_type": "code",
   "execution_count": 4,
   "metadata": {
    "lines_to_next_cell": 0
   },
   "outputs": [],
   "source": [
    "sess.close()  # Close the session"
   ]
  },
  {
   "cell_type": "markdown",
   "metadata": {
    "lines_to_next_cell": 2
   },
   "source": [
    "## Experiment 2\n",
    "- After this experiment you will understand the definition of sessions and how to use them with the python context manager (`with`)."
   ]
  },
  {
   "cell_type": "code",
   "execution_count": 5,
   "metadata": {},
   "outputs": [],
   "source": [
    "import tensorflow as tf"
   ]
  },
  {
   "cell_type": "code",
   "execution_count": 6,
   "metadata": {
    "lines_to_next_cell": 2
   },
   "outputs": [],
   "source": [
    "# Defining constants\n",
    "a = tf.constant(3)\n",
    "b = tf.constant(4)"
   ]
  },
  {
   "cell_type": "code",
   "execution_count": 7,
   "metadata": {
    "lines_to_next_cell": 2
   },
   "outputs": [
    {
     "name": "stdout",
     "output_type": "stream",
     "text": [
      "Add: 7\n",
      "Multiply: 12\n"
     ]
    }
   ],
   "source": [
    "# Creating a Session\n",
    "with tf.Session() as sess:  # `with` starts a context where Session will be automatically closed\n",
    "    print(f\"Add: {sess.run(a + b)}\")\n",
    "    print(f\"Multiply: {sess.run(a * b)}\")"
   ]
  },
  {
   "cell_type": "markdown",
   "metadata": {},
   "source": [
    "## Experiment 3\n",
    "- After this experiment you will understand the \"tensor\" part of TensorFlow and how to use TensorFlow to multiply matrices."
   ]
  },
  {
   "cell_type": "code",
   "execution_count": 8,
   "metadata": {},
   "outputs": [],
   "source": [
    "import tensorflow as tf"
   ]
  },
  {
   "cell_type": "code",
   "execution_count": 9,
   "metadata": {},
   "outputs": [],
   "source": [
    "# Start a TF default session\n",
    "sess = tf.InteractiveSession()"
   ]
  },
  {
   "cell_type": "code",
   "execution_count": 10,
   "metadata": {
    "lines_to_next_cell": 2
   },
   "outputs": [],
   "source": [
    "# Creates two matrix variables\n",
    "w1 = tf.Variable(tf.random_normal(shape=[2, 3], mean=1.0, stddev=1.0))\n",
    "w2 = tf.Variable(tf.random_normal(shape=[3, 1], mean=1.0, stddev=1.0))"
   ]
  },
  {
   "cell_type": "code",
   "execution_count": 11,
   "metadata": {
    "lines_to_next_cell": 2
   },
   "outputs": [],
   "source": [
    "# Defining a constant matrix\n",
    "x = tf.constant([[0.7, 0.9]])"
   ]
  },
  {
   "cell_type": "code",
   "execution_count": 12,
   "metadata": {
    "lines_to_next_cell": 2
   },
   "outputs": [],
   "source": [
    "# Initializing global variables: w1, w2\n",
    "tf.global_variables_initializer().run()"
   ]
  },
  {
   "cell_type": "code",
   "execution_count": 13,
   "metadata": {
    "lines_to_next_cell": 2
   },
   "outputs": [
    {
     "name": "stdout",
     "output_type": "stream",
     "text": [
      "[[4.3299136]]\n"
     ]
    }
   ],
   "source": [
    "# Multiply matrices\n",
    "a = tf.matmul(x, w1)\n",
    "b = tf.matmul(a, w2)\n",
    "print(b.eval())  # Evaluates tensor `b` in the session"
   ]
  },
  {
   "cell_type": "markdown",
   "metadata": {},
   "source": [
    "## Experiment 4\n",
    "- After this experiment you will understand `tf.Variable` and the `get_variable` function."
   ]
  },
  {
   "cell_type": "code",
   "execution_count": 14,
   "metadata": {},
   "outputs": [],
   "source": [
    "import tensorflow as tf"
   ]
  },
  {
   "cell_type": "code",
   "execution_count": 15,
   "metadata": {},
   "outputs": [],
   "source": [
    "# Clears the default graph stack and resets the global default graph.\n",
    "tf.reset_default_graph()"
   ]
  },
  {
   "cell_type": "code",
   "execution_count": 16,
   "metadata": {},
   "outputs": [],
   "source": [
    "var1 = tf.Variable(10.0, name=\"varname\")\n",
    "var2 = tf.Variable(11.0, name=\"varname\")\n",
    "var3 = tf.Variable(12.0)\n",
    "var4 = tf.Variable(13.0)"
   ]
  },
  {
   "cell_type": "code",
   "execution_count": 17,
   "metadata": {
    "lines_to_next_cell": 2
   },
   "outputs": [],
   "source": [
    "# Variable scope allows you to create new variables and to share already created ones\n",
    "# while providing checks to not create or share by accident.\n",
    "# TODO: make it more clear\n",
    "with tf.variable_scope(\"test1\"):\n",
    "    var5 = tf.get_variable(\"varname\", shape=[2], dtype=tf.float32)\n",
    "\n",
    "with tf.variable_scope(\"test2\"):\n",
    "    var6 = tf.get_variable(\"varname\", shape=[2], dtype=tf.float32)"
   ]
  },
  {
   "cell_type": "code",
   "execution_count": 18,
   "metadata": {
    "lines_to_next_cell": 0
   },
   "outputs": [
    {
     "name": "stdout",
     "output_type": "stream",
     "text": [
      "var1:  varname:0\n",
      "var2:  varname_1:0\n",
      "var3:  Variable:0\n",
      "var4:  Variable_1:0\n",
      "var5:  test1/varname:0\n",
      "var6:  test2/varname:0\n"
     ]
    }
   ],
   "source": [
    "print(\"var1: \", var1.name)\n",
    "print(\n",
    "    \"var2: \", var2.name\n",
    ")  # A tf variable with a existing name gets a suffix to differentiate between them\n",
    "print(\"var3: \", var3.name)\n",
    "print(\"var4: \", var4.name)\n",
    "print(\n",
    "    \"var5: \", var5.name\n",
    ")  # With `variable_scope` we can enclose a variable within a desired scope\n",
    "print(\"var6: \", var6.name)"
   ]
  },
  {
   "cell_type": "markdown",
   "metadata": {},
   "source": [
    "## Experiment 5\n",
    "- After this experiment you will understand the virtualization tool TensorBoard."
   ]
  },
  {
   "cell_type": "code",
   "execution_count": 19,
   "metadata": {},
   "outputs": [],
   "source": [
    "import time\n",
    "import tensorflow as tf\n",
    "import numpy as np\n",
    "import matplotlib.pyplot as plt"
   ]
  },
  {
   "cell_type": "code",
   "execution_count": 20,
   "metadata": {
    "lines_to_next_cell": 1
   },
   "outputs": [],
   "source": [
    "def moving_average(a, w=10):\n",
    "    if len(a) < w:\n",
    "        return a[:]\n",
    "    ma = [val if idx < w else sum(a[(idx - w) : idx]) / w for idx, val in enumerate(a)]\n",
    "    return ma"
   ]
  },
  {
   "cell_type": "code",
   "execution_count": 21,
   "metadata": {},
   "outputs": [],
   "source": [
    "x_train = np.linspace(-1, 1, 100)\n",
    "y_train = 2 * x_train + np.random.randn(*x_train.shape) * 0.3  # y = 2 * x + noise"
   ]
  },
  {
   "cell_type": "code",
   "execution_count": 22,
   "metadata": {},
   "outputs": [
    {
     "data": {
      "image/png": "[encoded data removed]",
      "text/plain": [
       "<Figure size 432x288 with 1 Axes>"
      ]
     },
     "metadata": {
      "needs_background": "light"
     },
     "output_type": "display_data"
    }
   ],
   "source": [
    "plt.plot(x_train, y_train, \"ro\", label=\"Original data\")\n",
    "plt.legend()\n",
    "plt.show()\n",
    "\n",
    "tf.reset_default_graph()"
   ]
  },
  {
   "cell_type": "code",
   "execution_count": 23,
   "metadata": {},
   "outputs": [],
   "source": [
    "# Creating a model\n",
    "X = tf.placeholder(\"float\")\n",
    "Y = tf.placeholder(\"float\")\n",
    "\n",
    "# Model parameters\n",
    "W = tf.Variable(tf.random_normal([1]), name=\"weight\")\n",
    "b = tf.Variable(tf.zeros([1], name=\"bias\"))"
   ]
  },
  {
   "cell_type": "code",
   "execution_count": 24,
   "metadata": {},
   "outputs": [
    {
     "data": {
      "text/plain": [
       "<tf.Tensor 'z:0' shape=() dtype=string>"
      ]
     },
     "execution_count": 24,
     "metadata": {},
     "output_type": "execute_result"
    }
   ],
   "source": [
    "z = tf.multiply(X, W) + b\n",
    "tf.summary.histogram(\"z\", z)"
   ]
  },
  {
   "cell_type": "code",
   "execution_count": 25,
   "metadata": {
    "lines_to_next_cell": 2
   },
   "outputs": [],
   "source": [
    "# Reverse optimization\n",
    "\n",
    "# Cost function\n",
    "cost = tf.reduce_mean(tf.square(Y - z))\n",
    "tf.summary.scalar(\"loss_function\", cost)\n",
    "\n",
    "# Gradient descent\n",
    "learning_rate = 0.01\n",
    "optimizer = tf.train.GradientDescentOptimizer(learning_rate).minimize(cost)"
   ]
  },
  {
   "cell_type": "code",
   "execution_count": 26,
   "metadata": {
    "lines_to_next_cell": 2
   },
   "outputs": [
    {
     "name": "stdout",
     "output_type": "stream",
     "text": [
      "Epoch: 1 cost=1.3770824670791626, W=[0.2790489], b=[0.47441682]\n",
      "Epoch: 2 cost=0.47772327065467834, W=[1.1060674], b=[0.28331485]\n",
      "Epoch: 3 cost=0.1974407434463501, W=[1.5481255], b=[0.13005617]\n",
      "Epoch: 4 cost=0.12214253097772598, W=[1.7757021], b=[0.04484959]\n",
      "Epoch: 5 cost=0.1028217300772667, W=[1.8917862], b=[0.00057852]\n",
      "Epoch: 6 cost=0.09800884872674942, W=[1.9508617], b=[-0.02205557]\n",
      "Epoch: 7 cost=0.09686443954706192, W=[1.9809078], b=[-0.03358093]\n",
      "Epoch: 8 cost=0.09661988168954849, W=[1.9961864], b=[-0.03944348]\n",
      "Epoch: 9 cost=0.09658276289701462, W=[2.0039556], b=[-0.04242483]\n",
      "Epoch: 10 cost=0.09658646583557129, W=[2.0079064], b=[-0.04394087]\n",
      "Epoch: 11 cost=0.0965941995382309, W=[2.0099154], b=[-0.04471186]\n",
      "Epoch: 12 cost=0.09659961611032486, W=[2.0109365], b=[-0.04510374]\n",
      "Epoch: 13 cost=0.09660277515649796, W=[2.011456], b=[-0.04530306]\n",
      "Epoch: 14 cost=0.09660448133945465, W=[2.0117202], b=[-0.04540449]\n",
      "Epoch: 15 cost=0.09660536795854568, W=[2.0118546], b=[-0.04545597]\n",
      "Finished!\n",
      "cost=0.09660536795854568, W=[2.0118546], b=[-0.04545597]\n"
     ]
    }
   ],
   "source": [
    "# Start a session\n",
    "init = tf.global_variables_initializer()\n",
    "plot_data = {\"batch_size\": [], \"loss\": []}\n",
    "with tf.Session() as sess:\n",
    "    sess.run(init)\n",
    "    # Merge all summaries\n",
    "    merged_summary_op = tf.summary.merge_all()\n",
    "    # Create summary writer for the writing\n",
    "    summary_writer = tf.summary.FileWriter(f\"log/run-{time.time_ns()}\", sess.graph)\n",
    "\n",
    "    # Write data to the model\n",
    "    training_epochs = 15\n",
    "    display_step = 1\n",
    "    for epoch in range(training_epochs):\n",
    "        for (x, y) in zip(x_train, y_train):\n",
    "            sess.run(optimizer, feed_dict={X: x, Y: y})\n",
    "            summary_str = sess.run(merged_summary_op, feed_dict={X: x, Y: y})\n",
    "            summary_writer.add_summary(summary_str, epoch)\n",
    "\n",
    "        if epoch % display_step == 0:\n",
    "            loss = sess.run(cost, feed_dict={X: x_train, Y: y_train})\n",
    "            weights = sess.run(W)\n",
    "            bias = sess.run(b)\n",
    "            print(f\"Epoch: {epoch + 1} cost={loss}, W={weights}, b={bias}\")\n",
    "            if loss:\n",
    "                plot_data[\"batch_size\"].append(epoch)\n",
    "                plot_data[\"loss\"].append(loss)\n",
    "\n",
    "    print(\"Finished!\")\n",
    "    cost = sess.run(cost, feed_dict={X: x_train, Y: y_train})\n",
    "    weights = sess.run(W)\n",
    "    bias = sess.run(b)\n",
    "    print(f\"cost={cost}, W={weights}, b={bias}\")"
   ]
  },
  {
   "cell_type": "code",
   "execution_count": 27,
   "metadata": {
    "lines_to_next_cell": 2
   },
   "outputs": [
    {
     "data": {
      "image/png": "[encoded data removed]",
      "text/plain": [
       "<Figure size 432x288 with 1 Axes>"
      ]
     },
     "metadata": {
      "needs_background": "light"
     },
     "output_type": "display_data"
    },
    {
     "data": {
      "image/png": "[encoded data removed]",
      "text/plain": [
       "<Figure size 432x288 with 1 Axes>"
      ]
     },
     "metadata": {
      "needs_background": "light"
     },
     "output_type": "display_data"
    }
   ],
   "source": [
    "# Visualize results\n",
    "y_pred = weights * x_train + bias\n",
    "plot_data[\"avgloss\"] = moving_average(plot_data[\"loss\"])\n",
    "\n",
    "plt.subplot(211)\n",
    "plt.plot(x_train, y_train, \"ro\", markersize=4, label=\"Original data\")\n",
    "plt.plot(x_train, y_pred, label=\"Fitted line\")\n",
    "plt.xlabel(\"x\")\n",
    "plt.ylabel(\"y\")\n",
    "plt.legend()\n",
    "plt.show()\n",
    "\n",
    "plt.subplot(212)\n",
    "plt.plot(plot_data[\"batch_size\"], plot_data[\"avgloss\"], \"b--\")\n",
    "plt.xlabel(\"Minibatch number\")\n",
    "plt.ylabel(\"Loss\")\n",
    "plt.title(\"Minibatch run vs Training loss\")\n",
    "\n",
    "plt.show()"
   ]
  },
  {
   "cell_type": "markdown",
   "metadata": {},
   "source": [
    "Now, in your terminal, type: `tensorboard --logdir log` and go to the given address. You can see your training log!"
   ]
  },
  {
   "cell_type": "markdown",
   "metadata": {},
   "source": [
    "## Experiment 6\n",
    "- After this experiment, you will understand how to read data from files with TensorFlow.\n",
    "- TODO: use `tf.data` and `tf.data.TextLineDataset`."
   ]
  },
  {
   "cell_type": "code",
   "execution_count": 28,
   "metadata": {
    "lines_to_next_cell": 2
   },
   "outputs": [],
   "source": [
    "import tensorflow as tf"
   ]
  },
  {
   "cell_type": "code",
   "execution_count": 29,
   "metadata": {},
   "outputs": [
    {
     "name": "stdout",
     "output_type": "stream",
     "text": [
      "WARNING:tensorflow:From <ipython-input-29-899ebddd084d>:1: string_input_producer (from tensorflow.python.training.input) is deprecated and will be removed in a future version.\n",
      "Instructions for updating:\n",
      "Queue-based input pipelines have been replaced by `tf.data`. Use `tf.data.Dataset.from_tensor_slices(string_tensor).shuffle(tf.shape(input_tensor, out_type=tf.int64)[0]).repeat(num_epochs)`. If `shuffle=False`, omit the `.shuffle(...)`.\n",
      "WARNING:tensorflow:From /home/lativ/.virtualenvs/huawei-ai-py37/lib/python3.7/site-packages/tensorflow_core/python/training/input.py:277: input_producer (from tensorflow.python.training.input) is deprecated and will be removed in a future version.\n",
      "Instructions for updating:\n",
      "Queue-based input pipelines have been replaced by `tf.data`. Use `tf.data.Dataset.from_tensor_slices(input_tensor).shuffle(tf.shape(input_tensor, out_type=tf.int64)[0]).repeat(num_epochs)`. If `shuffle=False`, omit the `.shuffle(...)`.\n",
      "WARNING:tensorflow:From /home/lativ/.virtualenvs/huawei-ai-py37/lib/python3.7/site-packages/tensorflow_core/python/training/input.py:189: limit_epochs (from tensorflow.python.training.input) is deprecated and will be removed in a future version.\n",
      "Instructions for updating:\n",
      "Queue-based input pipelines have been replaced by `tf.data`. Use `tf.data.Dataset.from_tensors(tensor).repeat(num_epochs)`.\n",
      "WARNING:tensorflow:From /home/lativ/.virtualenvs/huawei-ai-py37/lib/python3.7/site-packages/tensorflow_core/python/training/input.py:198: QueueRunner.__init__ (from tensorflow.python.training.queue_runner_impl) is deprecated and will be removed in a future version.\n",
      "Instructions for updating:\n",
      "To construct input pipelines, use the `tf.data` module.\n",
      "WARNING:tensorflow:From /home/lativ/.virtualenvs/huawei-ai-py37/lib/python3.7/site-packages/tensorflow_core/python/training/input.py:198: add_queue_runner (from tensorflow.python.training.queue_runner_impl) is deprecated and will be removed in a future version.\n",
      "Instructions for updating:\n",
      "To construct input pipelines, use the `tf.data` module.\n",
      "WARNING:tensorflow:From <ipython-input-29-899ebddd084d>:2: TextLineReader.__init__ (from tensorflow.python.ops.io_ops) is deprecated and will be removed in a future version.\n",
      "Instructions for updating:\n",
      "Queue-based input pipelines have been replaced by `tf.data`. Use `tf.data.TextLineDataset`.\n"
     ]
    }
   ],
   "source": [
    "data = tf.train.string_input_producer([\"data.csv\"])\n",
    "reader = tf.TextLineReader()\n",
    "\n",
    "# Getting queue values\n",
    "key, value = reader.read(data)\n",
    "# key represents the information of the read file and the number of rows.\n",
    "# value represents the raw strings read by row, which are sent to the decoder for decoding.\n",
    "\n",
    "# The data type here determines the type of data to be read, which should be in the list form.\n",
    "record_defaults = [[1.0], [1.0], [1.0], [1.0]]\n",
    "# Each parsed attribute (column) is a scalar with the rank value of 0\n",
    "col1, col2, col3, col4 = tf.decode_csv(value, record_defaults=record_defaults)\n",
    "features = tf.stack([col1, col2, col3])"
   ]
  },
  {
   "cell_type": "code",
   "execution_count": 30,
   "metadata": {},
   "outputs": [],
   "source": [
    "init_op = tf.global_variables_initializer()\n",
    "local_init_op = tf.local_variables_initializer()"
   ]
  },
  {
   "cell_type": "code",
   "execution_count": 31,
   "metadata": {},
   "outputs": [
    {
     "name": "stdout",
     "output_type": "stream",
     "text": [
      "WARNING:tensorflow:From <ipython-input-31-23154ae81d0f>:8: start_queue_runners (from tensorflow.python.training.queue_runner_impl) is deprecated and will be removed in a future version.\n",
      "Instructions for updating:\n",
      "To construct input pipelines, use the `tf.data` module.\n",
      "[-0.76 15.67 -0.12] 15.67\n",
      "[-0.48 12.52 -0.06] 12.51\n",
      "[1.33 9.11 0.12] 9.1\n",
      "[-0.88 20.35 -0.18] 20.36\n",
      "[-0.25  3.99 -0.01] 3.99\n",
      "[-0.87 26.25 -0.23] 26.25\n",
      "[-1.03  2.87 -0.03] 2.87\n",
      "[-0.51  7.81 -0.04] 7.81\n",
      "[-1.57 14.46 -0.23] 14.46\n",
      "[-1.000e-01  1.002e+01 -1.000e-02] 10.02\n",
      "[-0.56  8.92 -0.05] 8.92\n",
      "[-1.2   4.1  -0.05] 4.1\n",
      "[-0.77  5.15 -0.04] 5.15\n",
      "[-0.88  4.48 -0.04] 4.48\n",
      "[-2.7  10.82 -0.3 ] 10.82\n",
      "[-1.23  2.4  -0.03] 2.4\n",
      "[-0.77  5.16 -0.04] 5.15\n",
      "[-0.76 15.67 -0.12] 15.67\n",
      "[-0.81  6.15 -0.05] 6.15\n",
      "[-0.6   5.01 -0.03] 5.0\n",
      "[-1.25  4.75 -0.06] 4.75\n",
      "[-25.3    7.31  -0.19] 7.3\n",
      "[-1.15 16.39 -0.19] 16.39\n",
      "[-1.7   5.19 -0.09] 5.18\n",
      "[-0.62  3.23 -0.02] 3.22\n",
      "[-0.74 17.43 -0.13] 17.41\n",
      "[-0.77 15.41 -0.12] 15.41\n",
      "[ 0. 47.  0.] 47.01\n",
      "[0.25 3.98 0.01] 3.98\n",
      "[-1.1   9.01 -0.1 ] 9.01\n",
      "Done!\n"
     ]
    }
   ],
   "source": [
    "with tf.Session() as sess:\n",
    "    # Start a session and perform initialization\n",
    "    sess.run(init_op)\n",
    "    sess.run(local_init_op)\n",
    "    # Start populating the filename queue\n",
    "    coord = tf.train.Coordinator()\n",
    "    # Feed the queue\n",
    "    threads = tf.train.start_queue_runners(coord=coord)\n",
    "    for i in range(30):\n",
    "        example, label = sess.run([features, col4])\n",
    "        print(example, label)\n",
    "\n",
    "    print(\"Done!\")\n",
    "\n",
    "    coord.request_stop()\n",
    "    coord.join(threads)"
   ]
  },
  {
   "cell_type": "markdown",
   "metadata": {},
   "source": [
    "## Experiment 7\n",
    "- After this exepriment, you will understand graphic operations with TensorFlow. That is, oprations within graphs."
   ]
  },
  {
   "cell_type": "code",
   "execution_count": 37,
   "metadata": {},
   "outputs": [],
   "source": [
    "import numpy as np\n",
    "import tensorflow as tf"
   ]
  },
  {
   "cell_type": "code",
   "execution_count": 38,
   "metadata": {
    "lines_to_next_cell": 2
   },
   "outputs": [
    {
     "name": "stdout",
     "output_type": "stream",
     "text": [
      "<tensorflow.python.framework.ops.Graph object at 0x7f72e04b2410>\n",
      "<tensorflow.python.framework.ops.Graph object at 0x7f72e04b2410>\n",
      "<tensorflow.python.framework.ops.Graph object at 0x7f72e03dde90>\n",
      "<tensorflow.python.framework.ops.Graph object at 0x7f72e03dde90>\n",
      "<tensorflow.python.framework.ops.Graph object at 0x7f72e036f310>\n"
     ]
    }
   ],
   "source": [
    "# Defines a constant variable\n",
    "c = tf.constant(0.0)\n",
    "# Creates a graph\n",
    "g = tf.Graph()\n",
    "with g.as_default():\n",
    "    c1 = tf.constant(0.0)\n",
    "    print(c1.graph)\n",
    "    print(g)\n",
    "    # Not the same graph as c1.graph and g\n",
    "    print(c.graph)\n",
    "\n",
    "# Same graph as c.graph\n",
    "g2 = tf.get_default_graph()\n",
    "print(g2)\n",
    "\n",
    "# Reset graphs\n",
    "tf.reset_default_graph()\n",
    "g3 = tf.get_default_graph()\n",
    "print(g3)  # New graph"
   ]
  },
  {
   "cell_type": "code",
   "execution_count": 39,
   "metadata": {},
   "outputs": [
    {
     "name": "stdout",
     "output_type": "stream",
     "text": [
      "Const:0\n",
      "Tensor(\"Const:0\", shape=(), dtype=float32)\n"
     ]
    }
   ],
   "source": [
    "# Get the tensor\n",
    "print(c1.name)\n",
    "t = g.get_tensor_by_name(name=\"Const:0\")  # This name is the default one.\n",
    "print(t)"
   ]
  },
  {
   "cell_type": "code",
   "execution_count": 40,
   "metadata": {},
   "outputs": [
    {
     "name": "stdout",
     "output_type": "stream",
     "text": [
      "example_op:0 Tensor(\"example_op:0\", shape=(1, 1), dtype=float32)\n",
      "Tensor(\"example_op:0\", shape=(1, 1), dtype=float32)\n",
      "example_op\n",
      "name: \"example_op\"\n",
      "op: \"MatMul\"\n",
      "input: \"Const\"\n",
      "input: \"Const_1\"\n",
      "attr {\n",
      "  key: \"T\"\n",
      "  value {\n",
      "    type: DT_FLOAT\n",
      "  }\n",
      "}\n",
      "attr {\n",
      "  key: \"transpose_a\"\n",
      "  value {\n",
      "    b: false\n",
      "  }\n",
      "}\n",
      "attr {\n",
      "  key: \"transpose_b\"\n",
      "  value {\n",
      "    b: false\n",
      "  }\n",
      "}\n",
      "\n",
      "[[7.]]\n",
      "Tensor(\"example_op:0\", shape=(1, 1), dtype=float32)\n"
     ]
    }
   ],
   "source": [
    "# Get an operation\n",
    "\n",
    "# Define constant variables\n",
    "a = tf.constant([[1.0, 2.0]])\n",
    "b = tf.constant([[1.0], [3.0]])\n",
    "\n",
    "# Define a op named 'example_op'\n",
    "tensor1 = tf.matmul(a, b, name=\"example_op\")\n",
    "# Print op.name and itself (and break line)\n",
    "print(tensor1.name, tensor1)\n",
    "# Get same op as above using its output tensor name\n",
    "test = g3.get_tensor_by_name(\"example_op:0\")\n",
    "print(test)\n",
    "\n",
    "print(tensor1.op.name)\n",
    "test_op = g3.get_operation_by_name(\"example_op\")\n",
    "print(test_op)\n",
    "\n",
    "with tf.Session() as sess:\n",
    "    test = sess.run(test)\n",
    "    print(test)\n",
    "    test = tf.get_default_graph().get_tensor_by_name(\"example_op:0\")\n",
    "    print(test)\n",
    "\n",
    "# TODO: improve this output"
   ]
  },
  {
   "cell_type": "code",
   "execution_count": 41,
   "metadata": {},
   "outputs": [
    {
     "name": "stdout",
     "output_type": "stream",
     "text": [
      "[<tf.Operation 'Const' type=Const>]\n"
     ]
    }
   ],
   "source": [
    "# Get all lists\n",
    "\n",
    "# Return the list of operating nodes in the graph\n",
    "tt2 = g.get_operations()\n",
    "print(tt2)"
   ]
  },
  {
   "cell_type": "code",
   "execution_count": 42,
   "metadata": {},
   "outputs": [
    {
     "name": "stdout",
     "output_type": "stream",
     "text": [
      "Tensor(\"Const:0\", shape=(), dtype=float32)\n"
     ]
    }
   ],
   "source": [
    "# Get an object\n",
    "tt3 = g.as_graph_element(c1)\n",
    "print(tt3)"
   ]
  },
  {
   "cell_type": "markdown",
   "metadata": {},
   "source": [
    "## Experiment 8"
   ]
  },
  {
   "cell_type": "markdown",
   "metadata": {
    "lines_to_next_cell": 2
   },
   "source": [
    "## Experiment 9"
   ]
  }
 ],
 "metadata": {
  "jupytext": {
   "cell_metadata_filter": "-all",
   "formats": "ipynb,py:percent"
  },
  "kernelspec": {
   "display_name": "Python 3",
   "language": "python",
   "name": "python3"
  },
  "language_info": {
   "codemirror_mode": {
    "name": "ipython",
    "version": 3
   },
   "file_extension": ".py",
   "mimetype": "text/x-python",
   "name": "python",
   "nbconvert_exporter": "python",
   "pygments_lexer": "ipython3",
   "version": "3.7.7"
  }
 },
 "nbformat": 4,
 "nbformat_minor": 4
}
