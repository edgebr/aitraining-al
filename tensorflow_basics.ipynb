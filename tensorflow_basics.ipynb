{
 "cells": [
  {
   "cell_type": "markdown",
   "metadata": {},
   "source": [
    "# Experiments\n",
    "\n",
    "This experiment guide includes nine experiments, introducing basic equipment operation and\n",
    "Configuration, TensorFlow's helloworld, sessions, matrix multiplication, TensorFlow\n",
    "Virtualization, and housing price prediction.\n",
    "\n",
    "- Experiment 1: \"Hello, TensorFlow\".\n",
    "- Experiment 2: Understand functions of sessions through a session experiment using the with session function.\n",
    "- Experiment 3: Understand matrix multiplication by multiplying two matrices with ranks of tensors greater than 2.\n",
    "- Experiment 4: Understand the definition of variables. \n",
    "  - Define variables with Variable and get_variable respectively and observe the difference between these two methods.\n",
    "- Experiment 5: Understand the visualization of TensorBoard. \n",
    "  - TensorBoard aggregates all kinds of data into a log file. \n",
    "  - You can enable TensorBoard service to read the log file and enable the 6060 port to provide web services so that users can view data via a browser.\n",
    "- Experiment 6: Understand data reading and processing by reading .csv files and displaying them based on given conditions.\n",
    "- Experiment 7: Understand graphic operations. \n",
    "  - Create a graph in three ways and set it as the default graph. Use the get_default_graph() function to access the default graph and verify its settings.\n",
    "- Experiment 8: Understand save and use of models. \n",
    "  - After importing data, analyze data characteristics and define variables based on the characteristics. \n",
    "  - Create a model and define output nodes. \n",
    "  - Build the structure for forward propagation and then the structure for backpropagation. \n",
    "  - Compile and train the model to get appropriate parameters. \n",
    "  - After training data and testing the model, create a saver and a path to save parameters in the session automatically. \n",
    "  - When the model is saved, you can access the model for use.\n",
    "- Experiment 9: A comprehensive experiment of forecasting housing price through the instantiation of linear regression. \n",
    "  - Use the dataset of housing prices in Beijing and skills in the prior eight experiments to forecast the housing price."
   ]
  },
  {
   "cell_type": "markdown",
   "metadata": {
    "lines_to_next_cell": 0
   },
   "source": [
    "## Experiment 1"
   ]
  },
  {
   "cell_type": "code",
   "execution_count": null,
   "metadata": {},
   "outputs": [],
   "source": [
    "import tensorflow as tf"
   ]
  },
  {
   "cell_type": "code",
   "execution_count": null,
   "metadata": {
    "lines_to_next_cell": 2
   },
   "outputs": [],
   "source": [
    "# Defining a variable\n",
    "hello = tf.constant('hello, tensorflow!')  # a constant "
   ]
  },
  {
   "cell_type": "code",
   "execution_count": null,
   "metadata": {
    "lines_to_next_cell": 0
   },
   "outputs": [],
   "source": [
    "sess = tf.Session()     # Creates a session\n",
    "print(sess.run(hello))  # Run the session on the `hello` constant to get the result"
   ]
  },
  {
   "cell_type": "code",
   "execution_count": null,
   "metadata": {
    "lines_to_next_cell": 0
   },
   "outputs": [],
   "source": [
    "sess.close()  # Close the session"
   ]
  },
  {
   "cell_type": "markdown",
   "metadata": {
    "lines_to_next_cell": 2
   },
   "source": [
    "## Experiment 2\n",
    "- After this experiment you will understand the definition of sessions and how to use them with the python context manager (`with`)."
   ]
  },
  {
   "cell_type": "code",
   "execution_count": null,
   "metadata": {},
   "outputs": [],
   "source": [
    "import tensorflow as tf"
   ]
  },
  {
   "cell_type": "code",
   "execution_count": null,
   "metadata": {
    "lines_to_next_cell": 2
   },
   "outputs": [],
   "source": [
    "# Defining constants\n",
    "a = tf.constant(3)\n",
    "b = tf.constant(4)"
   ]
  },
  {
   "cell_type": "code",
   "execution_count": null,
   "metadata": {
    "lines_to_next_cell": 2
   },
   "outputs": [],
   "source": [
    "# Creating a Session\n",
    "with tf.Session() as sess:  # `with` starts a context where Session will be automatically closed\n",
    "    print(f'Add: {sess.run(a + b)}')\n",
    "    print(f'Multiply: {sess.run(a * b)}')"
   ]
  },
  {
   "cell_type": "markdown",
   "metadata": {},
   "source": [
    "## Experiment 3"
   ]
  },
  {
   "cell_type": "markdown",
   "metadata": {},
   "source": [
    "## Experiment 4"
   ]
  },
  {
   "cell_type": "markdown",
   "metadata": {},
   "source": [
    "## Experiment 5"
   ]
  },
  {
   "cell_type": "markdown",
   "metadata": {},
   "source": [
    "## Experiment 6"
   ]
  },
  {
   "cell_type": "markdown",
   "metadata": {},
   "source": [
    "## Experiment 7"
   ]
  },
  {
   "cell_type": "markdown",
   "metadata": {},
   "source": [
    "## Experiment 8"
   ]
  },
  {
   "cell_type": "markdown",
   "metadata": {
    "lines_to_next_cell": 2
   },
   "source": [
    "## Experiment 9"
   ]
  }
 ],
 "metadata": {
  "jupytext": {
   "cell_metadata_filter": "-all",
   "formats": "ipynb,py:percent"
  },
  "kernelspec": {
   "display_name": "Python 3",
   "language": "python",
   "name": "python3"
  },
  "language_info": {
   "codemirror_mode": {
    "name": "ipython",
    "version": 3
   },
   "file_extension": ".py",
   "mimetype": "text/x-python",
   "name": "python",
   "nbconvert_exporter": "python",
   "pygments_lexer": "ipython3",
   "version": "3.8.3"
  }
 },
 "nbformat": 4,
 "nbformat_minor": 4
}
