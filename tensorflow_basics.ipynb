{
 "cells": [
  {
   "cell_type": "markdown",
   "metadata": {},
   "source": [
    "# Experiments\n",
    "\n",
    "This experiment guide includes nine experiments, introducing basic equipment operation and\n",
    "Configuration, TensorFlow's helloworld, sessions, matrix multiplication, TensorFlow\n",
    "Virtualization, and housing price prediction.\n",
    "\n",
    "- Experiment 1: \"Hello, TensorFlow\".\n",
    "- Experiment 2: Understand functions of sessions through a session experiment using the with session function.\n",
    "- Experiment 3: Understand matrix multiplication by multiplying two matrices with ranks of tensors greater than 2.\n",
    "- Experiment 4: Understand the definition of variables.\n",
    "  - Define variables with Variable and get_variable respectively and observe the difference between these two methods.\n",
    "- Experiment 5: Understand the visualization of TensorBoard.\n",
    "  - TensorBoard aggregates all kinds of data into a log file.\n",
    "  - You can enable TensorBoard service to read the log file and enable the 6060 port to provide web services so that users can view data via a browser.\n",
    "- Experiment 6: Understand data reading and processing by reading .csv files and displaying them based on given conditions.\n",
    "- Experiment 7: Understand graphic operations.\n",
    "  - Create a graph in three ways and set it as the default graph. Use the get_default_graph() function to access the default graph and verify its settings.\n",
    "- Experiment 8: Understand save and use of models.\n",
    "  - After importing data, analyze data characteristics and define variables based on the characteristics.\n",
    "  - Create a model and define output nodes.\n",
    "  - Build the structure for forward propagation and then the structure for backpropagation.\n",
    "  - Compile and train the model to get appropriate parameters.\n",
    "  - After training data and testing the model, create a saver and a path to save parameters in the session automatically.\n",
    "  - When the model is saved, you can access the model for use.\n",
    "- Experiment 9: A comprehensive experiment of forecasting housing price through the instantiation of linear regression.\n",
    "  - Use the dataset of housing prices in Beijing and skills in the prior eight experiments to forecast the housing price."
   ]
  },
  {
   "cell_type": "markdown",
   "metadata": {
    "lines_to_next_cell": 0
   },
   "source": [
    "## Experiment 1"
   ]
  },
  {
   "cell_type": "code",
   "execution_count": 1,
   "metadata": {},
   "outputs": [],
   "source": [
    "import tensorflow as tf"
   ]
  },
  {
   "cell_type": "code",
   "execution_count": 2,
   "metadata": {
    "lines_to_next_cell": 2
   },
   "outputs": [],
   "source": [
    "# Defining a variable\n",
    "hello = tf.constant(\"hello, tensorflow!\")  # a constant"
   ]
  },
  {
   "cell_type": "code",
   "execution_count": 3,
   "metadata": {
    "lines_to_next_cell": 0
   },
   "outputs": [
    {
     "name": "stdout",
     "output_type": "stream",
     "text": [
      "b'hello, tensorflow!'\n"
     ]
    }
   ],
   "source": [
    "sess = tf.Session()  # Creates a session\n",
    "print(sess.run(hello))  # Run the session on the `hello` constant to get the result"
   ]
  },
  {
   "cell_type": "code",
   "execution_count": 4,
   "metadata": {
    "lines_to_next_cell": 0
   },
   "outputs": [],
   "source": [
    "sess.close()  # Close the session"
   ]
  },
  {
   "cell_type": "markdown",
   "metadata": {
    "lines_to_next_cell": 2
   },
   "source": [
    "## Experiment 2\n",
    "- After this experiment you will understand the definition of sessions and how to use them with the python context manager (`with`)."
   ]
  },
  {
   "cell_type": "code",
   "execution_count": 5,
   "metadata": {},
   "outputs": [],
   "source": [
    "import tensorflow as tf"
   ]
  },
  {
   "cell_type": "code",
   "execution_count": 6,
   "metadata": {
    "lines_to_next_cell": 2
   },
   "outputs": [],
   "source": [
    "# Defining constants\n",
    "a = tf.constant(3)\n",
    "b = tf.constant(4)"
   ]
  },
  {
   "cell_type": "code",
   "execution_count": 7,
   "metadata": {
    "lines_to_next_cell": 2
   },
   "outputs": [
    {
     "name": "stdout",
     "output_type": "stream",
     "text": [
      "Add: 7\n",
      "Multiply: 12\n"
     ]
    }
   ],
   "source": [
    "# Creating a Session\n",
    "with tf.Session() as sess:  # `with` starts a context where Session will be automatically closed\n",
    "    print(f\"Add: {sess.run(a + b)}\")\n",
    "    print(f\"Multiply: {sess.run(a * b)}\")"
   ]
  },
  {
   "cell_type": "markdown",
   "metadata": {},
   "source": [
    "## Experiment 3\n",
    "- After this experiment you will understand the \"tensor\" part of TensorFlow and how to use TensorFlow to multiply matrices."
   ]
  },
  {
   "cell_type": "code",
   "execution_count": 8,
   "metadata": {},
   "outputs": [],
   "source": [
    "import tensorflow as tf"
   ]
  },
  {
   "cell_type": "code",
   "execution_count": 9,
   "metadata": {},
   "outputs": [],
   "source": [
    "# Start a TF default session\n",
    "sess = tf.InteractiveSession()"
   ]
  },
  {
   "cell_type": "code",
   "execution_count": 10,
   "metadata": {
    "lines_to_next_cell": 2
   },
   "outputs": [],
   "source": [
    "# Creates two matrix variables\n",
    "w1 = tf.Variable(tf.random_normal(shape=[2, 3], mean=1.0, stddev=1.0))\n",
    "w2 = tf.Variable(tf.random_normal(shape=[3, 1], mean=1.0, stddev=1.0))"
   ]
  },
  {
   "cell_type": "code",
   "execution_count": 11,
   "metadata": {
    "lines_to_next_cell": 2
   },
   "outputs": [],
   "source": [
    "# Defining a constant matrix\n",
    "x = tf.constant([[0.7, 0.9]])"
   ]
  },
  {
   "cell_type": "code",
   "execution_count": 12,
   "metadata": {
    "lines_to_next_cell": 2
   },
   "outputs": [],
   "source": [
    "# Initializing global variables: w1, w2\n",
    "tf.global_variables_initializer().run()"
   ]
  },
  {
   "cell_type": "code",
   "execution_count": 13,
   "metadata": {
    "lines_to_next_cell": 2
   },
   "outputs": [
    {
     "name": "stdout",
     "output_type": "stream",
     "text": [
      "[[-0.5737703]]\n"
     ]
    }
   ],
   "source": [
    "# Multiply matrices\n",
    "a = tf.matmul(x, w1)\n",
    "b = tf.matmul(a, w2)\n",
    "print(b.eval())  # Evaluates tensor `b` in the session"
   ]
  },
  {
   "cell_type": "markdown",
   "metadata": {},
   "source": [
    "## Experiment 4\n",
    "- After this experiment you will understand `tf.Variable` and the `get_variable` function."
   ]
  },
  {
   "cell_type": "code",
   "execution_count": 14,
   "metadata": {},
   "outputs": [],
   "source": [
    "import tensorflow as tf"
   ]
  },
  {
   "cell_type": "code",
   "execution_count": 15,
   "metadata": {},
   "outputs": [],
   "source": [
    "# Clears the default graph stack and resets the global default graph.\n",
    "tf.reset_default_graph()"
   ]
  },
  {
   "cell_type": "code",
   "execution_count": 16,
   "metadata": {},
   "outputs": [],
   "source": [
    "var1 = tf.Variable(10.0, name=\"varname\")\n",
    "var2 = tf.Variable(11.0, name=\"varname\")\n",
    "var3 = tf.Variable(12.0)\n",
    "var4 = tf.Variable(13.0)"
   ]
  },
  {
   "cell_type": "code",
   "execution_count": 17,
   "metadata": {
    "lines_to_next_cell": 2
   },
   "outputs": [],
   "source": [
    "# Variable scope allows you to create new variables and to share already created ones \n",
    "# while providing checks to not create or share by accident.\n",
    "# TODO: make it more clear\n",
    "with tf.variable_scope(\"test1\"):\n",
    "    var5 = tf.get_variable(\"varname\", shape=[2], dtype=tf.float32)\n",
    "\n",
    "with tf.variable_scope(\"test2\"):\n",
    "    var6 = tf.get_variable(\"varname\", shape=[2], dtype=tf.float32)"
   ]
  },
  {
   "cell_type": "code",
   "execution_count": 18,
   "metadata": {
    "lines_to_next_cell": 0
   },
   "outputs": [
    {
     "name": "stdout",
     "output_type": "stream",
     "text": [
      "var1:  varname:0\n",
      "var2:  varname_1:0\n",
      "var3:  Variable:0\n",
      "var4:  Variable_1:0\n",
      "var5:  test1/varname:0\n",
      "var6:  test2/varname:0\n"
     ]
    }
   ],
   "source": [
    "print(\"var1: \", var1.name)\n",
    "print(\n",
    "    \"var2: \", var2.name\n",
    ")  # A tf variable with a existing name gets a suffix to differentiate between them\n",
    "print(\"var3: \", var3.name)\n",
    "print(\"var4: \", var4.name)\n",
    "print(\n",
    "    \"var5: \", var5.name\n",
    ")  # With `variable_scope` we can enclose a variable within a desired scope\n",
    "print(\"var6: \", var6.name)"
   ]
  },
  {
   "cell_type": "markdown",
   "metadata": {},
   "source": [
    "## Experiment 5\n",
    "- After this experiment you will understand the virtualization tool TensorBoard."
   ]
  },
  {
   "cell_type": "code",
   "execution_count": 72,
   "metadata": {},
   "outputs": [],
   "source": [
    "import time\n",
    "import tensorflow as tf\n",
    "import numpy as np\n",
    "import matplotlib.pyplot as plt"
   ]
  },
  {
   "cell_type": "code",
   "execution_count": 73,
   "metadata": {
    "lines_to_next_cell": 1
   },
   "outputs": [],
   "source": [
    "def moving_average(a, w=10):\n",
    "    if len(a) < w:\n",
    "        return a[:]\n",
    "    ma = [val if idx < w else sum(a[(idx - w):idx]) / w for idx, val in enumerate(a)]\n",
    "    return ma"
   ]
  },
  {
   "cell_type": "code",
   "execution_count": 74,
   "metadata": {},
   "outputs": [],
   "source": [
    "x_train = np.linspace(-1, 1, 100)\n",
    "y_train = 2 * x_train + np.random.randn(*x_train.shape) * 0.3  # y = 2 * x + noise"
   ]
  },
  {
   "cell_type": "code",
   "execution_count": 75,
   "metadata": {},
   "outputs": [
    {
     "data": {
      "image/png": "[encoded data removed]",
      "text/plain": [
       "<Figure size 432x288 with 1 Axes>"
      ]
     },
     "metadata": {
      "needs_background": "light"
     },
     "output_type": "display_data"
    }
   ],
   "source": [
    "plt.plot(x_train, y_train, 'ro', label='Original data')\n",
    "plt.legend()\n",
    "plt.show()\n",
    "\n",
    "tf.reset_default_graph()"
   ]
  },
  {
   "cell_type": "code",
   "execution_count": 76,
   "metadata": {},
   "outputs": [],
   "source": [
    "# Creating a model\n",
    "X = tf.placeholder('float')\n",
    "Y = tf.placeholder('float')\n",
    "\n",
    "# Model parameters\n",
    "W = tf.Variable(tf.random_normal([1]), name='weight')\n",
    "b = tf.Variable(tf.zeros([1], name='bias'))"
   ]
  },
  {
   "cell_type": "code",
   "execution_count": 77,
   "metadata": {},
   "outputs": [
    {
     "data": {
      "text/plain": [
       "<tf.Tensor 'z:0' shape=() dtype=string>"
      ]
     },
     "execution_count": 77,
     "metadata": {},
     "output_type": "execute_result"
    }
   ],
   "source": [
    "z = tf.multiply(X, W) + b\n",
    "tf.summary.histogram('z', z)"
   ]
  },
  {
   "cell_type": "code",
   "execution_count": 78,
   "metadata": {
    "lines_to_next_cell": 2
   },
   "outputs": [],
   "source": [
    "# Reverse optimization\n",
    "\n",
    "# Cost function \n",
    "cost = tf.reduce_mean(tf.square(Y - z))\n",
    "tf.summary.scalar('loss_function', cost)\n",
    "\n",
    "# Gradient descent\n",
    "learning_rate = 0.01\n",
    "optimizer = tf.train.GradientDescentOptimizer(learning_rate).minimize(cost)"
   ]
  },
  {
   "cell_type": "code",
   "execution_count": 79,
   "metadata": {
    "lines_to_next_cell": 2
   },
   "outputs": [
    {
     "name": "stdout",
     "output_type": "stream",
     "text": [
      "Epoch: 1 cost=0.6761869788169861, W=[0.85686857], b=[0.3010839]\n",
      "Epoch: 2 cost=0.2646661400794983, W=[1.4089153], b=[0.17172804]\n",
      "Epoch: 3 cost=0.13477975130081177, W=[1.7036897], b=[0.06931054]\n",
      "Epoch: 4 cost=0.09865140914916992, W=[1.8554049], b=[0.01247872]\n",
      "Epoch: 5 cost=0.08871055394411087, W=[1.932788], b=[-0.01703664]\n",
      "Epoch: 6 cost=0.0858825296163559, W=[1.972168], b=[-0.03212516]\n",
      "Epoch: 7 cost=0.08502337336540222, W=[1.9921979], b=[-0.03980839]\n",
      "Epoch: 8 cost=0.08473645895719528, W=[2.0023818], b=[-0.04371615]\n",
      "Epoch: 9 cost=0.08462931960821152, W=[2.0075612], b=[-0.0457036]\n",
      "Epoch: 10 cost=0.08458487689495087, W=[2.0101936], b=[-0.04671377]\n",
      "Epoch: 11 cost=0.08456484973430634, W=[2.0115335], b=[-0.0472279]\n",
      "Epoch: 12 cost=0.08455535024404526, W=[2.012215], b=[-0.04748939]\n",
      "Epoch: 13 cost=0.08455067873001099, W=[2.0125616], b=[-0.04762237]\n",
      "Epoch: 14 cost=0.08454836905002594, W=[2.012737], b=[-0.04768987]\n",
      "Epoch: 15 cost=0.08454719185829163, W=[2.0128262], b=[-0.04772415]\n",
      "Finished!\n",
      "cost=0.08454719185829163, W=[2.0128262], b=[-0.04772415]\n"
     ]
    }
   ],
   "source": [
    "# Start a session\n",
    "init = tf.global_variables_initializer()\n",
    "plot_data = {'batch_size': [], 'loss': []}\n",
    "with tf.Session() as sess:\n",
    "    sess.run(init)\n",
    "    # Merge all summaries\n",
    "    merged_summary_op = tf.summary.merge_all()\n",
    "    # Create summary writer for the writing\n",
    "    summary_writer = tf.summary.FileWriter(f'log/run-{time.time_ns()}', sess.graph)\n",
    "\n",
    "    # Write data to the model\n",
    "    training_epochs = 15\n",
    "    display_step = 1\n",
    "    for epoch in range(training_epochs):\n",
    "        for (x, y) in zip(x_train, y_train):\n",
    "            sess.run(optimizer, feed_dict={X: x, Y: y})\n",
    "            summary_str = sess.run(merged_summary_op, feed_dict={X: x, Y: y})\n",
    "            summary_writer.add_summary(summary_str, epoch)\n",
    "\n",
    "        if epoch % display_step == 0:\n",
    "            loss = sess.run(cost, feed_dict={X: x_train, Y: y_train})\n",
    "            weights = sess.run(W)\n",
    "            bias = sess.run(b)\n",
    "            print(f\"Epoch: {epoch + 1} cost={loss}, W={weights}, b={bias}\")\n",
    "            if loss:\n",
    "                plot_data['batch_size'].append(epoch)\n",
    "                plot_data['loss'].append(loss)\n",
    "\n",
    "    print('Finished!')\n",
    "    cost = sess.run(cost, feed_dict={X: x_train, Y: y_train})\n",
    "    weights = sess.run(W)\n",
    "    bias = sess.run(b)\n",
    "    print(f\"cost={cost}, W={weights}, b={bias}\")\n",
    "\n"
   ]
  },
  {
   "cell_type": "code",
   "execution_count": 90,
   "metadata": {
    "lines_to_next_cell": 2
   },
   "outputs": [
    {
     "data": {
      "image/png": "[encoded data removed]",
      "text/plain": [
       "<Figure size 432x288 with 1 Axes>"
      ]
     },
     "metadata": {
      "needs_background": "light"
     },
     "output_type": "display_data"
    },
    {
     "data": {
      "image/png": "[encoded data removed]",
      "text/plain": [
       "<Figure size 432x288 with 1 Axes>"
      ]
     },
     "metadata": {
      "needs_background": "light"
     },
     "output_type": "display_data"
    }
   ],
   "source": [
    "# Visualize results\n",
    "y_pred = weights * x_train + bias\n",
    "plot_data['avgloss'] = moving_average(plot_data['loss'])\n",
    "\n",
    "plt.subplot(211)\n",
    "plt.plot(x_train, y_train, 'ro', markersize=4, label='Original data')\n",
    "plt.plot(x_train, y_pred, label='Fitted line')\n",
    "plt.xlabel('x')\n",
    "plt.ylabel('y')\n",
    "plt.legend()\n",
    "plt.show()\n",
    "\n",
    "plt.subplot(212)\n",
    "plt.plot(plot_data['batch_size'], plot_data['avgloss'], 'b--')\n",
    "plt.xlabel('Minibatch number')\n",
    "plt.ylabel('Loss')\n",
    "plt.title('Minibatch run vs Training loss')\n",
    "\n",
    "plt.show()"
   ]
  },
  {
   "cell_type": "markdown",
   "metadata": {},
   "source": [
    "Now, in your terminal, type: `tensorboard --logdir log` and go to the given address. You can see your training log!"
   ]
  },
  {
   "cell_type": "markdown",
   "metadata": {},
   "source": [
    "## Experiment 6"
   ]
  },
  {
   "cell_type": "markdown",
   "metadata": {},
   "source": [
    "## Experiment 7"
   ]
  },
  {
   "cell_type": "markdown",
   "metadata": {},
   "source": [
    "## Experiment 8"
   ]
  },
  {
   "cell_type": "markdown",
   "metadata": {
    "lines_to_next_cell": 2
   },
   "source": [
    "## Experiment 9"
   ]
  }
 ],
 "metadata": {
  "jupytext": {
   "cell_metadata_filter": "-all",
   "formats": "ipynb,py:percent"
  },
  "kernelspec": {
   "display_name": "Python 3",
   "language": "python",
   "name": "python3"
  },
  "language_info": {
   "codemirror_mode": {
    "name": "ipython",
    "version": 3
   },
   "file_extension": ".py",
   "mimetype": "text/x-python",
   "name": "python",
   "nbconvert_exporter": "python",
   "pygments_lexer": "ipython3",
   "version": "3.7.7"
  }
 },
 "nbformat": 4,
 "nbformat_minor": 4
}
